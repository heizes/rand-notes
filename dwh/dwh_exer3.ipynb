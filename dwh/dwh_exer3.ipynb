{
 "cells": [
  {
   "cell_type": "code",
   "execution_count": null,
   "metadata": {},
   "outputs": [],
   "source": [
    "import pandas as pd\n",
    "\n",
    "# read csv files\n",
    "data = pd.read_csv(\"EXERCISE 3 - Steam Data.csv\")\n",
    "data2 = pd.read_csv(\"EXERCISE 3d - Game Features.csv\")\n",
    "\n",
    "# group the USER ID (ascending) and sum their playing hours\n",
    "A1 = data.loc[data['action'] == \"play\"].groupby(['user-id'])['total'].sum().reset_index(name=\"Total Hours Played\")\n",
    "\n",
    "# rename the column user-id to USER ID\n",
    "A1.rename(columns={'user-id':'User ID'}, inplace=True)\n",
    "\n",
    "A1.to_csv(r'CSVs\\CAMACHO_EXERCISE3_CSV_A1.csv', index=False, header=True)\n",
    "A1"
   ]
  },
  {
   "cell_type": "code",
   "execution_count": null,
   "metadata": {},
   "outputs": [],
   "source": [
    "# group by GAME TITLE (ascending) and sum their playing hours\n",
    "B1 = data.loc[data['action'] == \"play\"].groupby(['game-title'])['total'].sum().reset_index(name=\"Total Hours Played\").sort_values(by='Total Hours Played', ascending=False).reset_index().drop(columns='index')\n",
    "B1.rename(columns={'game-title':'Game Title'}, inplace=True)\n",
    "\n",
    "# rank column\n",
    "B1.index += 1 \n",
    "B1.index.name = 'Rank'\n",
    "\n",
    "B1.to_csv(r'CSVs\\CAMACHO_EXERCISE3_CSV_B1.csv', index=True, header=True)\n",
    "B1"
   ]
  },
  {
   "cell_type": "code",
   "execution_count": null,
   "metadata": {
    "scrolled": false
   },
   "outputs": [],
   "source": [
    "#rename the column QueryName to Game Title\n",
    "data2.rename(columns={'QueryName':'Game Title'}, inplace=True)\n",
    "\n",
    "# get the top 200 in B results\n",
    "C1 = B1.head(200)\n",
    "\n",
    "# i merge the top 200 of B by Game Title to ReleaseDate on the second dataset\n",
    "C1 = pd.merge(B1,data2[['Game Title', 'ReleaseDate']], how='left',on=['Game Title'])\n",
    "\n",
    "# i remove the duplicate Game Title and reset the index\n",
    "C1 = C1.drop_duplicates(subset='Game Title', keep=\"first\").reset_index().drop(columns='index')\n",
    "\n",
    "# rank column\n",
    "C1.index += 1 \n",
    "C1.index.name = 'Rank'\n",
    "\n",
    "# convert the ReleaseDate values to YYYY-MM-DD format\n",
    "C1['ReleaseDate'] = pd.to_datetime(C1['ReleaseDate'], errors='coerce')\n",
    "\n",
    "# delete that row with no ReleaseDate\n",
    "C1.dropna(subset = [\"ReleaseDate\"], inplace=True)\n",
    "\n",
    "C1.to_csv(r'CSVs\\CAMACHO_EXERCISE3_CSV_C1.csv', index=True, header=True)\n",
    "C1"
   ]
  }
 ],
 "metadata": {
  "kernelspec": {
   "display_name": "Python 3",
   "language": "python",
   "name": "python3"
  },
  "language_info": {
   "codemirror_mode": {
    "name": "ipython",
    "version": 3
   },
   "file_extension": ".py",
   "mimetype": "text/x-python",
   "name": "python",
   "nbconvert_exporter": "python",
   "pygments_lexer": "ipython3",
   "version": "3.8.5"
  }
 },
 "nbformat": 4,
 "nbformat_minor": 4
}
