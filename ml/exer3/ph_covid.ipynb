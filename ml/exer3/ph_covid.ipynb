{
 "cells": [
  {
   "cell_type": "code",
   "execution_count": null,
   "metadata": {
    "scrolled": true
   },
   "outputs": [],
   "source": [
    "import pandas as pd\n",
    "import plotly.graph_objects as go\n",
    "\n",
    "data = pd.read_csv(\"ph_covid_data.csv\")\n",
    "\n",
    "case_dates = data.date.tolist()\n",
    "case_new = data.new_cases.tolist()\n",
    "\n",
    "fig = go.Figure()\n",
    "fig.add_trace(go.Bar(x=case_dates, y=case_new))\n",
    "fig.show()\n",
    "fig.write_image(\"fig1.png\")"
   ]
  },
  {
   "cell_type": "code",
   "execution_count": null,
   "metadata": {},
   "outputs": [],
   "source": [
    "moving_avg = data['new_cases'].rolling(window=7).mean().to_list()\n",
    "fig.add_trace(go.Scatter(x=case_dates, y=moving_avg, mode=\"lines\"))\n",
    "fig.show()\n",
    "fig.write_image(\"fig2.png\")"
   ]
  },
  {
   "cell_type": "code",
   "execution_count": null,
   "metadata": {},
   "outputs": [],
   "source": [
    "fig2 = go.Figure()\n",
    "fig2.add_trace(go.Bar(x=case_dates, y=case_new, name=\"New Cases\"))\n",
    "fig2.add_trace(go.Scatter(x=case_dates, y=moving_avg, mode=\"lines\", name=\"7-Day Moving Average\"))\n",
    "fig2.show()\n",
    "fig2.write_image(\"fig3.png\")"
   ]
  }
 ],
 "metadata": {
  "kernelspec": {
   "display_name": "Python 3",
   "language": "python",
   "name": "python3"
  },
  "language_info": {
   "codemirror_mode": {
    "name": "ipython",
    "version": 3
   },
   "file_extension": ".py",
   "mimetype": "text/x-python",
   "name": "python",
   "nbconvert_exporter": "python",
   "pygments_lexer": "ipython3",
   "version": "3.8.5"
  }
 },
 "nbformat": 4,
 "nbformat_minor": 4
}
